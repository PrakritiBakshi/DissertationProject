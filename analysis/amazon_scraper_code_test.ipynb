{
 "cells": [
  {
   "cell_type": "code",
   "execution_count": 1,
   "id": "8240388e",
   "metadata": {},
   "outputs": [],
   "source": [
    "import requests\n",
    "from bs4 import BeautifulSoup as bs\n",
    "import pandas as pd\n",
    "import random\n",
    "import time"
   ]
  },
  {
   "cell_type": "code",
   "execution_count": 2,
   "id": "3914ba81",
   "metadata": {},
   "outputs": [],
   "source": [
    "my_headers = {\"User-Agent\": \"Mozilla/5.0 (Windows NT 10.0; Win64; x64) AppleWebKit/537.36 (KHTML, like Gecko) Chrome/95.0.4638.69 Safari/537.36\"}\n",
    "\n",
    "url = 'https://www.amazon.in/IHA-Zweta-Skin-Lightening-Cream/dp/B07PSCQF69/ref=sr_1_5?crid=3FO5GKG19PN4K&keywords=face%2Blightening%2Bcream&qid=1656973693&sprefix=face%2Blightening%2Bcream%2Caps%2C85&sr=8-5&th=1'\n",
    "\n",
    "req = requests.get(url, headers=my_headers)"
   ]
  },
  {
   "cell_type": "code",
   "execution_count": 3,
   "id": "c8b7ebdb",
   "metadata": {},
   "outputs": [
    {
     "data": {
      "text/plain": [
       "<Response [200]>"
      ]
     },
     "execution_count": 3,
     "metadata": {},
     "output_type": "execute_result"
    }
   ],
   "source": [
    "req"
   ]
  },
  {
   "cell_type": "code",
   "execution_count": 4,
   "id": "cb5d96d4",
   "metadata": {},
   "outputs": [],
   "source": [
    "soup =  bs(req.content)"
   ]
  },
  {
   "cell_type": "code",
   "execution_count": 5,
   "id": "ccde4508",
   "metadata": {},
   "outputs": [
    {
     "name": "stdout",
     "output_type": "stream",
     "text": [
      "        IHA Zweta Skin Lightening Cream - Herbal Face Cream, Vegan Skin Brightening Cream with Mulberry, Gotukola and Licorice - Daily Face Cream for Women, Face Glowing Cream For Normal to Dry Skin - 40G       \n"
     ]
    }
   ],
   "source": [
    "title = soup.select('#productTitle')[0].get_text().strip('\\n')\n",
    "print(title)"
   ]
  },
  {
   "cell_type": "code",
   "execution_count": 6,
   "id": "e2dfd2e7",
   "metadata": {},
   "outputs": [
    {
     "name": "stdout",
     "output_type": "stream",
     "text": [
      "<class 'str'>\n"
     ]
    }
   ],
   "source": [
    "print(type(title))"
   ]
  },
  {
   "cell_type": "code",
   "execution_count": 7,
   "id": "71d19494",
   "metadata": {},
   "outputs": [
    {
     "name": "stdout",
     "output_type": "stream",
     "text": [
      "        IHA Zweta Skin Lightening Cream - Herbal Face Cream, Vegan Skin Brightening Cream with Mulberry, Gotukola and Licorice - Daily Face Cream for Women, Face Glowing Cream For Normal to Dry Skin - 40G       \n"
     ]
    }
   ],
   "source": [
    "ourFinalList = []\n",
    "\n",
    "product_list = []\n",
    "for a in soup.find_all('span', class_='a-size-large product-title-word-break'):\n",
    "    product = a.text.strip('\\n')\n",
    "    ourFinalList.append({'product title': product})\n",
    "    print(product)"
   ]
  },
  {
   "cell_type": "code",
   "execution_count": 8,
   "id": "c8d0c07a",
   "metadata": {},
   "outputs": [
    {
     "name": "stdout",
     "output_type": "stream",
     "text": [
      "Price is 315\n"
     ]
    }
   ],
   "source": [
    "myPrice = []\n",
    "\n",
    "for b in soup.find_all('span', class_='a-price-whole')[0]:\n",
    "    price = (b.string.strip().replace('.', ''))\n",
    "    if price != \"\":\n",
    "        myPrice = price\n",
    "        ourFinalList.append({'price': myPrice})\n",
    "        print('Price is {}'.format(myPrice))"
   ]
  },
  {
   "cell_type": "code",
   "execution_count": 9,
   "id": "b4cd9cb3",
   "metadata": {},
   "outputs": [
    {
     "name": "stdout",
     "output_type": "stream",
     "text": [
      "Price for         IHA Zweta Skin Lightening Cream - Herbal Face Cream, Vegan Skin Brightening Cream with Mulberry, Gotukola and Licorice - Daily Face Cream for Women, Face Glowing Cream For Normal to Dry Skin - 40G        is 315\n"
     ]
    }
   ],
   "source": [
    "print('Price for {} is {}'.format(title, myPrice))"
   ]
  },
  {
   "cell_type": "code",
   "execution_count": 10,
   "id": "27374caa",
   "metadata": {},
   "outputs": [
    {
     "name": "stdout",
     "output_type": "stream",
     "text": [
      "     Lightening,Brightening,Nourishing  \n"
     ]
    }
   ],
   "source": [
    "productBenefits = []\n",
    "for c in soup.find_all('tr', class_='a-spacing-small po-product_benefit'):\n",
    "    prodben = (c.text.replace('Product Benefits', ''))\n",
    "    if prodben != \"\":\n",
    "        productBenefits = prodben\n",
    "        ourFinalList.append({'product benefit': productBenefits})\n",
    "        print(productBenefits)"
   ]
  },
  {
   "cell_type": "code",
   "execution_count": 11,
   "id": "e72d312a",
   "metadata": {},
   "outputs": [
    {
     "name": "stdout",
     "output_type": "stream",
     "text": [
      "     Skin-hydrating-and-moisturizing, Skin-exfoliating  \n"
     ]
    }
   ],
   "source": [
    "productUse = []\n",
    "for d in soup.find_all('tr', class_='a-spacing-small po-specific_uses_for_product'):\n",
    "    uses = (d.text.replace('Specific Uses For Product', ''))\n",
    "    if uses != \"\":\n",
    "        productUse = uses\n",
    "        ourFinalList.append({'product use': productUse})\n",
    "        print(productUse)"
   ]
  },
  {
   "cell_type": "code",
   "execution_count": 12,
   "id": "ea6955fa",
   "metadata": {
    "scrolled": true
   },
   "outputs": [
    {
     "name": "stdout",
     "output_type": "stream",
     "text": [
      "    NATURAL INGREDIENT: Comes with the goodness of mulberry, gotukola & licorice. Evens out complexion, hydrates and nourishes skin, hides blemishes and redness.    UNIQUE SKIN LIGHTENER: Features plant-based ingredients that provide SPF 10 protection to the skin, conceals skin imperfections with its foundation like effects and corrects skin tone.    100% VEGAN: Contains exceptional moisturizing properties. It is packed with skin-nourishing vitamins, minerals, and herbs that hydrate and protect the skin.    PROUDLY MADE IN INDIA: Drawing upon the traditional Indian ways of Ayurveda, IHA produces herbal face cream with the utmost care and quality checks in place. It is all-natural, vegan, and cruelty-free.    PACKAGE CONTENTS: 1 unit of herbal skin lightening face cream\n"
     ]
    }
   ],
   "source": [
    "productAbout = []\n",
    "\n",
    "for e in soup.find_all('div', class_='a-section a-spacing-medium a-spacing-top-small'):\n",
    "    about = (e.text.strip().replace('About this item', ''))\n",
    "    if about != \"\":\n",
    "        productAbout = about\n",
    "        ourFinalList.append({'about': productAbout})\n",
    "        print(productAbout)"
   ]
  },
  {
   "cell_type": "code",
   "execution_count": 13,
   "id": "cb194b94",
   "metadata": {},
   "outputs": [
    {
     "name": "stdout",
     "output_type": "stream",
     "text": [
      "[{'product title': '        IHA Zweta Skin Lightening Cream - Herbal Face Cream, Vegan Skin Brightening Cream with Mulberry, Gotukola and Licorice - Daily Face Cream for Women, Face Glowing Cream For Normal to Dry Skin - 40G       '}, {'price': '315'}, {'product benefit': '     Lightening,Brightening,Nourishing  '}, {'product use': '     Skin-hydrating-and-moisturizing, Skin-exfoliating  '}, {'about': '    NATURAL INGREDIENT: Comes with the goodness of mulberry, gotukola & licorice. Evens out complexion, hydrates and nourishes skin, hides blemishes and redness.    UNIQUE SKIN LIGHTENER: Features plant-based ingredients that provide SPF 10 protection to the skin, conceals skin imperfections with its foundation like effects and corrects skin tone.    100% VEGAN: Contains exceptional moisturizing properties. It is packed with skin-nourishing vitamins, minerals, and herbs that hydrate and protect the skin.    PROUDLY MADE IN INDIA: Drawing upon the traditional Indian ways of Ayurveda, IHA produces herbal face cream with the utmost care and quality checks in place. It is all-natural, vegan, and cruelty-free.    PACKAGE CONTENTS: 1 unit of herbal skin lightening face cream'}]\n"
     ]
    }
   ],
   "source": [
    "print(ourFinalList)"
   ]
  },
  {
   "cell_type": "code",
   "execution_count": 14,
   "id": "a9cdda02",
   "metadata": {},
   "outputs": [
    {
     "data": {
      "text/html": [
       "<div>\n",
       "<style scoped>\n",
       "    .dataframe tbody tr th:only-of-type {\n",
       "        vertical-align: middle;\n",
       "    }\n",
       "\n",
       "    .dataframe tbody tr th {\n",
       "        vertical-align: top;\n",
       "    }\n",
       "\n",
       "    .dataframe thead th {\n",
       "        text-align: right;\n",
       "    }\n",
       "</style>\n",
       "<table border=\"1\" class=\"dataframe\">\n",
       "  <thead>\n",
       "    <tr style=\"text-align: right;\">\n",
       "      <th></th>\n",
       "      <th>product title</th>\n",
       "      <th>price</th>\n",
       "      <th>benefits</th>\n",
       "      <th>use</th>\n",
       "      <th>description</th>\n",
       "    </tr>\n",
       "  </thead>\n",
       "  <tbody>\n",
       "    <tr>\n",
       "      <th>0</th>\n",
       "      <td>IHA Zweta Skin Lightening Cream - Herb...</td>\n",
       "      <td>NaN</td>\n",
       "      <td>NaN</td>\n",
       "      <td>NaN</td>\n",
       "      <td>NaN</td>\n",
       "    </tr>\n",
       "    <tr>\n",
       "      <th>1</th>\n",
       "      <td>NaN</td>\n",
       "      <td>315</td>\n",
       "      <td>NaN</td>\n",
       "      <td>NaN</td>\n",
       "      <td>NaN</td>\n",
       "    </tr>\n",
       "    <tr>\n",
       "      <th>2</th>\n",
       "      <td>NaN</td>\n",
       "      <td>NaN</td>\n",
       "      <td>NaN</td>\n",
       "      <td>NaN</td>\n",
       "      <td>NaN</td>\n",
       "    </tr>\n",
       "    <tr>\n",
       "      <th>3</th>\n",
       "      <td>NaN</td>\n",
       "      <td>NaN</td>\n",
       "      <td>NaN</td>\n",
       "      <td>NaN</td>\n",
       "      <td>NaN</td>\n",
       "    </tr>\n",
       "    <tr>\n",
       "      <th>4</th>\n",
       "      <td>NaN</td>\n",
       "      <td>NaN</td>\n",
       "      <td>NaN</td>\n",
       "      <td>NaN</td>\n",
       "      <td>NaN</td>\n",
       "    </tr>\n",
       "  </tbody>\n",
       "</table>\n",
       "</div>"
      ],
      "text/plain": [
       "                                       product title price  benefits  use  \\\n",
       "0          IHA Zweta Skin Lightening Cream - Herb...   NaN       NaN  NaN   \n",
       "1                                                NaN   315       NaN  NaN   \n",
       "2                                                NaN   NaN       NaN  NaN   \n",
       "3                                                NaN   NaN       NaN  NaN   \n",
       "4                                                NaN   NaN       NaN  NaN   \n",
       "\n",
       "   description  \n",
       "0          NaN  \n",
       "1          NaN  \n",
       "2          NaN  \n",
       "3          NaN  \n",
       "4          NaN  "
      ]
     },
     "execution_count": 14,
     "metadata": {},
     "output_type": "execute_result"
    }
   ],
   "source": [
    "the_headers = ['product title', 'price', 'benefits', 'use', 'description']\n",
    "df = pd.DataFrame(ourFinalList, columns = the_headers)\n",
    "df"
   ]
  },
  {
   "cell_type": "code",
   "execution_count": null,
   "id": "486c5a7f",
   "metadata": {},
   "outputs": [],
   "source": []
  }
 ],
 "metadata": {
  "kernelspec": {
   "display_name": "Python 3",
   "language": "python",
   "name": "python3"
  },
  "language_info": {
   "codemirror_mode": {
    "name": "ipython",
    "version": 3
   },
   "file_extension": ".py",
   "mimetype": "text/x-python",
   "name": "python",
   "nbconvert_exporter": "python",
   "pygments_lexer": "ipython3",
   "version": "3.8.8"
  }
 },
 "nbformat": 4,
 "nbformat_minor": 5
}
