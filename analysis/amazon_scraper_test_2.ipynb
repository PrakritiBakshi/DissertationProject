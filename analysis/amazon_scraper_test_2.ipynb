{
 "cells": [
  {
   "cell_type": "code",
   "execution_count": 1,
   "id": "e24981fd",
   "metadata": {},
   "outputs": [],
   "source": [
    "import requests\n",
    "from bs4 import BeautifulSoup as bs\n",
    "import pandas as pd\n",
    "import random\n",
    "import time"
   ]
  },
  {
   "cell_type": "markdown",
   "id": "dc59fcd4",
   "metadata": {},
   "source": [
    "## collect the page and make a soup"
   ]
  },
  {
   "cell_type": "code",
   "execution_count": 5,
   "id": "1287e790",
   "metadata": {},
   "outputs": [],
   "source": [
    "my_headers = {\"User-Agent\": \"Mozilla/5.0 (Windows NT 10.0; Win64; x64) AppleWebKit/537.36 (KHTML, like Gecko) Chrome/95.0.4638.69 Safari/537.36\"}\n",
    "\n",
    "url = 'https://www.amazon.in/IHA-Zweta-Skin-Lightening-Cream/dp/B07PSCQF69/ref=sr_1_5?crid=3FO5GKG19PN4K&keywords=face%2Blightening%2Bcream&qid=1656973693&sprefix=face%2Blightening%2Bcream%2Caps%2C85&sr=8-5&th=1'\n",
    "\n",
    "req = requests.get(url, headers=my_headers)"
   ]
  },
  {
   "cell_type": "code",
   "execution_count": 6,
   "id": "39b824c6",
   "metadata": {},
   "outputs": [
    {
     "name": "stdout",
     "output_type": "stream",
     "text": [
      "200\n"
     ]
    }
   ],
   "source": [
    "print(req.status_code)"
   ]
  },
  {
   "cell_type": "code",
   "execution_count": 7,
   "id": "246dd792",
   "metadata": {},
   "outputs": [],
   "source": [
    "soup =  bs(req.content)"
   ]
  },
  {
   "cell_type": "markdown",
   "id": "f12f3a66",
   "metadata": {},
   "source": [
    "## parsing\n",
    "\n",
    "> name, price, benefit, uses, about / description"
   ]
  },
  {
   "cell_type": "markdown",
   "id": "d1ea22ce",
   "metadata": {},
   "source": [
    "<div class=\"alert alert-success\">\n",
    "Fix the excess white space - just add a 'strip=True' argument\n",
    "</div>\n"
   ]
  },
  {
   "cell_type": "code",
   "execution_count": 151,
   "id": "aad9c25d",
   "metadata": {},
   "outputs": [],
   "source": [
    "# empty list for the dictionaries\n",
    "\n",
    "list_of_dicts = []"
   ]
  },
  {
   "cell_type": "code",
   "execution_count": 152,
   "id": "102060a0",
   "metadata": {},
   "outputs": [],
   "source": [
    "\n",
    "# name\n",
    "for a in soup.find_all('span', class_='a-size-large product-title-word-break'):\n",
    "    prod = a.get_text(strip=True).strip('\\n')\n",
    "    \n",
    "# price\n",
    "prix = soup.find_all('span', class_='a-price-whole')[0].get_text().strip('.')\n",
    " \n",
    "# benefit\n",
    "for x in soup.find_all('tr', class_=\"a-spacing-small po-product_benefit\"):\n",
    "    for y in x.find_all('td', class_ = 'a-span9'):\n",
    "        prodben = y.get_text(strip=True)\n",
    "\n",
    "# use\n",
    "for x in soup.find_all('tr', class_=\"a-spacing-small po-specific_uses_for_product\"):\n",
    "    for y in x.find_all('td', class_ = 'a-span9'):\n",
    "        produse = y.get_text(strip=True)\n",
    "\n",
    "# about\n",
    "join_list=[]\n",
    "for x in soup.find_all('div', class_='a-section a-spacing-medium a-spacing-top-small'):\n",
    "    for y in x.find_all('span', class_ = 'a-list-item'):\n",
    "        productAbout = y.get_text(strip=True)\n",
    "        join_list.append(productAbout)\n",
    "    full_str = ' '.join(join_list) \n",
    "    \n",
    "# dictionary for this product\n",
    "list_of_dicts.append({\"product\": prod, \"price\": prix, \"benefits\":prodben, \"use\": produse, \"description\":full_str})"
   ]
  },
  {
   "cell_type": "code",
   "execution_count": 153,
   "id": "8414f2bd",
   "metadata": {},
   "outputs": [
    {
     "data": {
      "text/plain": [
       "[{'product': 'IHA Zweta Skin Lightening Cream - Herbal Face Cream, Vegan Skin Brightening Cream with Mulberry, Gotukola and Licorice - Daily Face Cream for Women, Face Glowing Cream For Normal to Dry Skin - 40G',\n",
       "  'price': '315',\n",
       "  'benefits': 'Lightening,Brightening,Nourishing',\n",
       "  'use': 'Skin-hydrating-and-moisturizing, Skin-exfoliating',\n",
       "  'description': 'NATURAL INGREDIENT: Comes with the goodness of mulberry, gotukola & licorice. Evens out complexion, hydrates and nourishes skin, hides blemishes and redness. UNIQUE SKIN LIGHTENER: Features plant-based ingredients that provide SPF 10 protection to the skin, conceals skin imperfections with its foundation like effects and corrects skin tone. 100% VEGAN: Contains exceptional moisturizing properties. It is packed with skin-nourishing vitamins, minerals, and herbs that hydrate and protect the skin. PROUDLY MADE IN INDIA: Drawing upon the traditional Indian ways of Ayurveda, IHA produces herbal face cream with the utmost care and quality checks in place. It is all-natural, vegan, and cruelty-free. PACKAGE CONTENTS: 1 unit of herbal skin lightening face cream'}]"
      ]
     },
     "execution_count": 153,
     "metadata": {},
     "output_type": "execute_result"
    }
   ],
   "source": [
    "list_of_dicts"
   ]
  },
  {
   "cell_type": "code",
   "execution_count": 154,
   "id": "31660386",
   "metadata": {},
   "outputs": [
    {
     "data": {
      "text/html": [
       "<div>\n",
       "<style scoped>\n",
       "    .dataframe tbody tr th:only-of-type {\n",
       "        vertical-align: middle;\n",
       "    }\n",
       "\n",
       "    .dataframe tbody tr th {\n",
       "        vertical-align: top;\n",
       "    }\n",
       "\n",
       "    .dataframe thead th {\n",
       "        text-align: right;\n",
       "    }\n",
       "</style>\n",
       "<table border=\"1\" class=\"dataframe\">\n",
       "  <thead>\n",
       "    <tr style=\"text-align: right;\">\n",
       "      <th></th>\n",
       "      <th>product</th>\n",
       "      <th>price</th>\n",
       "      <th>benefits</th>\n",
       "      <th>use</th>\n",
       "      <th>description</th>\n",
       "    </tr>\n",
       "  </thead>\n",
       "  <tbody>\n",
       "    <tr>\n",
       "      <th>0</th>\n",
       "      <td>IHA Zweta Skin Lightening Cream - Herbal Face ...</td>\n",
       "      <td>315</td>\n",
       "      <td>Lightening,Brightening,Nourishing</td>\n",
       "      <td>Skin-hydrating-and-moisturizing, Skin-exfoliating</td>\n",
       "      <td>NATURAL INGREDIENT: Comes with the goodness of...</td>\n",
       "    </tr>\n",
       "  </tbody>\n",
       "</table>\n",
       "</div>"
      ],
      "text/plain": [
       "                                             product price  \\\n",
       "0  IHA Zweta Skin Lightening Cream - Herbal Face ...   315   \n",
       "\n",
       "                            benefits  \\\n",
       "0  Lightening,Brightening,Nourishing   \n",
       "\n",
       "                                                 use  \\\n",
       "0  Skin-hydrating-and-moisturizing, Skin-exfoliating   \n",
       "\n",
       "                                         description  \n",
       "0  NATURAL INGREDIENT: Comes with the goodness of...  "
      ]
     },
     "execution_count": 154,
     "metadata": {},
     "output_type": "execute_result"
    }
   ],
   "source": [
    "df = pd.DataFrame(list_of_dicts)\n",
    "df"
   ]
  },
  {
   "cell_type": "code",
   "execution_count": null,
   "id": "d4962e1e",
   "metadata": {},
   "outputs": [],
   "source": []
  }
 ],
 "metadata": {
  "kernelspec": {
   "display_name": "Python 3",
   "language": "python",
   "name": "python3"
  },
  "language_info": {
   "codemirror_mode": {
    "name": "ipython",
    "version": 3
   },
   "file_extension": ".py",
   "mimetype": "text/x-python",
   "name": "python",
   "nbconvert_exporter": "python",
   "pygments_lexer": "ipython3",
   "version": "3.8.8"
  }
 },
 "nbformat": 4,
 "nbformat_minor": 5
}
