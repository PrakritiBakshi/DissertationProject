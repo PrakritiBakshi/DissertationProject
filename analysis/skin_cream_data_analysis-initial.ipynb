{
 "cells": [
  {
   "cell_type": "code",
   "execution_count": 1,
   "metadata": {},
   "outputs": [],
   "source": [
    "import pandas as pd\n",
    "from collections import Counter\n",
    "import re\n",
    "from nltk.corpus import stopwords"
   ]
  },
  {
   "cell_type": "code",
   "execution_count": 2,
   "metadata": {},
   "outputs": [
    {
     "name": "stdout",
     "output_type": "stream",
     "text": [
      "(120, 7)\n"
     ]
    },
    {
     "data": {
      "text/html": [
       "<div>\n",
       "<style scoped>\n",
       "    .dataframe tbody tr th:only-of-type {\n",
       "        vertical-align: middle;\n",
       "    }\n",
       "\n",
       "    .dataframe tbody tr th {\n",
       "        vertical-align: top;\n",
       "    }\n",
       "\n",
       "    .dataframe thead th {\n",
       "        text-align: right;\n",
       "    }\n",
       "</style>\n",
       "<table border=\"1\" class=\"dataframe\">\n",
       "  <thead>\n",
       "    <tr style=\"text-align: right;\">\n",
       "      <th></th>\n",
       "      <th>result index</th>\n",
       "      <th>product</th>\n",
       "      <th>price</th>\n",
       "      <th>benefits</th>\n",
       "      <th>use</th>\n",
       "      <th>description</th>\n",
       "      <th>url</th>\n",
       "    </tr>\n",
       "  </thead>\n",
       "  <tbody>\n",
       "    <tr>\n",
       "      <th>46</th>\n",
       "      <td>47</td>\n",
       "      <td>Pureus Skin Whitening Face Cream for Glowing S...</td>\n",
       "      <td>449</td>\n",
       "      <td>Fairness &amp; Nourished skin, control blemishes &amp;...</td>\n",
       "      <td>Daily Care, Skin-hydrating-and-moisturizing</td>\n",
       "      <td>WANT SOFT &amp; SUPPLE SKIN ? Â : Are you also los...</td>\n",
       "      <td>https://www.amazon.in/Whitening-Brightening-Li...</td>\n",
       "    </tr>\n",
       "    <tr>\n",
       "      <th>38</th>\n",
       "      <td>39</td>\n",
       "      <td>GO LITE NATURAL SKIN Lightening CREAM WITH SUN...</td>\n",
       "      <td>480</td>\n",
       "      <td>Lightening</td>\n",
       "      <td>Moisturizing, Brightening, Softening, Hydratin...</td>\n",
       "      <td>Go-lite Skin Lightening Cream With Sunscreen I...</td>\n",
       "      <td>https://www.amazon.in/LITE-NATURAL-Lightening-...</td>\n",
       "    </tr>\n",
       "    <tr>\n",
       "      <th>73</th>\n",
       "      <td>74</td>\n",
       "      <td>Sanfe 2 in 1 Back &amp; Bum Anti-Cellulite Serum |...</td>\n",
       "      <td>349</td>\n",
       "      <td>Shea butter High concentrations of fatty acids...</td>\n",
       "      <td>Dark Spots, Inflammation, Brightening, Pigment...</td>\n",
       "      <td>Reduces the appearance of cellulite Topical tr...</td>\n",
       "      <td>https://www.amazon.in/Sanfe-Anti-Cellulite-cel...</td>\n",
       "    </tr>\n",
       "  </tbody>\n",
       "</table>\n",
       "</div>"
      ],
      "text/plain": [
       "    result index                                            product price  \\\n",
       "46            47  Pureus Skin Whitening Face Cream for Glowing S...   449   \n",
       "38            39  GO LITE NATURAL SKIN Lightening CREAM WITH SUN...   480   \n",
       "73            74  Sanfe 2 in 1 Back & Bum Anti-Cellulite Serum |...   349   \n",
       "\n",
       "                                             benefits  \\\n",
       "46  Fairness & Nourished skin, control blemishes &...   \n",
       "38                                         Lightening   \n",
       "73  Shea butter High concentrations of fatty acids...   \n",
       "\n",
       "                                                  use  \\\n",
       "46        Daily Care, Skin-hydrating-and-moisturizing   \n",
       "38  Moisturizing, Brightening, Softening, Hydratin...   \n",
       "73  Dark Spots, Inflammation, Brightening, Pigment...   \n",
       "\n",
       "                                          description  \\\n",
       "46  WANT SOFT & SUPPLE SKIN ? Â : Are you also los...   \n",
       "38  Go-lite Skin Lightening Cream With Sunscreen I...   \n",
       "73  Reduces the appearance of cellulite Topical tr...   \n",
       "\n",
       "                                                  url  \n",
       "46  https://www.amazon.in/Whitening-Brightening-Li...  \n",
       "38  https://www.amazon.in/LITE-NATURAL-Lightening-...  \n",
       "73  https://www.amazon.in/Sanfe-Anti-Cellulite-cel...  "
      ]
     },
     "execution_count": 2,
     "metadata": {},
     "output_type": "execute_result"
    }
   ],
   "source": [
    "path = '/Users/Prakriti/Desktop/'\n",
    "file = 'cream_data.csv'\n",
    "df = pd.read_csv(path + file)\n",
    "print(df.shape)\n",
    "df.sample(3)"
   ]
  },
  {
   "cell_type": "code",
   "execution_count": 3,
   "metadata": {},
   "outputs": [],
   "source": [
    "# remove commas and cast price column to integer type\n",
    "\n",
    "df.price = df.price.str.replace(',', '').astype(int)\n"
   ]
  },
  {
   "cell_type": "code",
   "execution_count": 4,
   "metadata": {},
   "outputs": [],
   "source": [
    "# df.product is causing problems so 'product' might be a method...\n",
    "\n",
    "df.rename(columns = {'product':'item'}, inplace = True)"
   ]
  },
  {
   "cell_type": "code",
   "execution_count": 5,
   "metadata": {},
   "outputs": [
    {
     "data": {
      "text/html": [
       "<div>\n",
       "<style scoped>\n",
       "    .dataframe tbody tr th:only-of-type {\n",
       "        vertical-align: middle;\n",
       "    }\n",
       "\n",
       "    .dataframe tbody tr th {\n",
       "        vertical-align: top;\n",
       "    }\n",
       "\n",
       "    .dataframe thead th {\n",
       "        text-align: right;\n",
       "    }\n",
       "</style>\n",
       "<table border=\"1\" class=\"dataframe\">\n",
       "  <thead>\n",
       "    <tr style=\"text-align: right;\">\n",
       "      <th></th>\n",
       "      <th>result index</th>\n",
       "      <th>item</th>\n",
       "      <th>price</th>\n",
       "      <th>benefits</th>\n",
       "      <th>use</th>\n",
       "      <th>description</th>\n",
       "      <th>url</th>\n",
       "    </tr>\n",
       "  </thead>\n",
       "  <tbody>\n",
       "    <tr>\n",
       "      <th>0</th>\n",
       "      <td>1</td>\n",
       "      <td>KOJO Absolute Daily Care combo with Deep Clean...</td>\n",
       "      <td>3210</td>\n",
       "      <td>Anti aging, Acne Control, gentle exfoliation, ...</td>\n",
       "      <td>Dark Spots, Acne, Dryness</td>\n",
       "      <td>INGREDIENTS: KOJO Absolute Daily Care combo co...</td>\n",
       "      <td>https://www.amazon.in/gp/slredirect/picassoRed...</td>\n",
       "    </tr>\n",
       "    <tr>\n",
       "      <th>1</th>\n",
       "      <td>2</td>\n",
       "      <td>KOJO Absolute Daily Care combo with Deep Clean...</td>\n",
       "      <td>3210</td>\n",
       "      <td>Anti aging, Acne Control, gentle exfoliation, ...</td>\n",
       "      <td>Anti-Aging, SPF 30, Anti Wrinkle Day Cream</td>\n",
       "      <td>INGREDIENTS: KOJO Absolute Daily Care combo co...</td>\n",
       "      <td>https://www.amazon.in/gp/slredirect/picassoRed...</td>\n",
       "    </tr>\n",
       "    <tr>\n",
       "      <th>2</th>\n",
       "      <td>3</td>\n",
       "      <td>Enchanted beauty Dermatologists Recommended Be...</td>\n",
       "      <td>2099</td>\n",
       "      <td>Brightening</td>\n",
       "      <td>Daily Care, Skin-hydrating-and-moisturizing</td>\n",
       "      <td>Gives the skin an effect of full of natural gl...</td>\n",
       "      <td>https://www.amazon.in/gp/slredirect/picassoRed...</td>\n",
       "    </tr>\n",
       "  </tbody>\n",
       "</table>\n",
       "</div>"
      ],
      "text/plain": [
       "   result index                                               item  price  \\\n",
       "0             1  KOJO Absolute Daily Care combo with Deep Clean...   3210   \n",
       "1             2  KOJO Absolute Daily Care combo with Deep Clean...   3210   \n",
       "2             3  Enchanted beauty Dermatologists Recommended Be...   2099   \n",
       "\n",
       "                                            benefits  \\\n",
       "0  Anti aging, Acne Control, gentle exfoliation, ...   \n",
       "1  Anti aging, Acne Control, gentle exfoliation, ...   \n",
       "2                                        Brightening   \n",
       "\n",
       "                                           use  \\\n",
       "0                    Dark Spots, Acne, Dryness   \n",
       "1   Anti-Aging, SPF 30, Anti Wrinkle Day Cream   \n",
       "2  Daily Care, Skin-hydrating-and-moisturizing   \n",
       "\n",
       "                                         description  \\\n",
       "0  INGREDIENTS: KOJO Absolute Daily Care combo co...   \n",
       "1  INGREDIENTS: KOJO Absolute Daily Care combo co...   \n",
       "2  Gives the skin an effect of full of natural gl...   \n",
       "\n",
       "                                                 url  \n",
       "0  https://www.amazon.in/gp/slredirect/picassoRed...  \n",
       "1  https://www.amazon.in/gp/slredirect/picassoRed...  \n",
       "2  https://www.amazon.in/gp/slredirect/picassoRed...  "
      ]
     },
     "execution_count": 5,
     "metadata": {},
     "output_type": "execute_result"
    }
   ],
   "source": [
    "df[:3]"
   ]
  },
  {
   "cell_type": "markdown",
   "metadata": {},
   "source": [
    "## language used for product / item name\n",
    "\n",
    "> a list of all words (1600)"
   ]
  },
  {
   "cell_type": "code",
   "execution_count": 6,
   "metadata": {},
   "outputs": [],
   "source": [
    "# cast the column that interests us to a list\n",
    "\n",
    "all_items = df.item.tolist()"
   ]
  },
  {
   "cell_type": "code",
   "execution_count": 7,
   "metadata": {},
   "outputs": [
    {
     "name": "stdout",
     "output_type": "stream",
     "text": [
      "2567\n"
     ]
    }
   ],
   "source": [
    "# put all the words in a single list - and lowercase them all at the same time\n",
    "\n",
    "words = []\n",
    "\n",
    "for x in all_items:\n",
    "    line = x.split()\n",
    "    for y in line:\n",
    "        y = y.lower()\n",
    "        words.append(y)\n",
    "print(len(words))\n"
   ]
  },
  {
   "cell_type": "code",
   "execution_count": 8,
   "metadata": {},
   "outputs": [
    {
     "name": "stdout",
     "output_type": "stream",
     "text": [
      "1865\n"
     ]
    }
   ],
   "source": [
    "# remove numbers and punctuation characters\n",
    "\n",
    "words = [t for t in words if t.isalpha()]\n",
    "print(len(words))"
   ]
  },
  {
   "cell_type": "code",
   "execution_count": 9,
   "metadata": {},
   "outputs": [],
   "source": [
    "# set the stop words\n",
    "\n",
    "stop_words = set(stopwords.words('english')) \n"
   ]
  },
  {
   "cell_type": "code",
   "execution_count": 10,
   "metadata": {},
   "outputs": [
    {
     "data": {
      "text/plain": [
       "{'a',\n",
       " 'about',\n",
       " 'above',\n",
       " 'after',\n",
       " 'again',\n",
       " 'against',\n",
       " 'ain',\n",
       " 'all',\n",
       " 'am',\n",
       " 'an',\n",
       " 'and',\n",
       " 'any',\n",
       " 'are',\n",
       " 'aren',\n",
       " \"aren't\",\n",
       " 'as',\n",
       " 'at',\n",
       " 'be',\n",
       " 'because',\n",
       " 'been',\n",
       " 'before',\n",
       " 'being',\n",
       " 'below',\n",
       " 'between',\n",
       " 'both',\n",
       " 'but',\n",
       " 'by',\n",
       " 'can',\n",
       " 'couldn',\n",
       " \"couldn't\",\n",
       " 'd',\n",
       " 'did',\n",
       " 'didn',\n",
       " \"didn't\",\n",
       " 'do',\n",
       " 'does',\n",
       " 'doesn',\n",
       " \"doesn't\",\n",
       " 'doing',\n",
       " 'don',\n",
       " \"don't\",\n",
       " 'down',\n",
       " 'during',\n",
       " 'each',\n",
       " 'few',\n",
       " 'for',\n",
       " 'from',\n",
       " 'further',\n",
       " 'had',\n",
       " 'hadn',\n",
       " \"hadn't\",\n",
       " 'has',\n",
       " 'hasn',\n",
       " \"hasn't\",\n",
       " 'have',\n",
       " 'haven',\n",
       " \"haven't\",\n",
       " 'having',\n",
       " 'he',\n",
       " 'her',\n",
       " 'here',\n",
       " 'hers',\n",
       " 'herself',\n",
       " 'him',\n",
       " 'himself',\n",
       " 'his',\n",
       " 'how',\n",
       " 'i',\n",
       " 'if',\n",
       " 'in',\n",
       " 'into',\n",
       " 'is',\n",
       " 'isn',\n",
       " \"isn't\",\n",
       " 'it',\n",
       " \"it's\",\n",
       " 'its',\n",
       " 'itself',\n",
       " 'just',\n",
       " 'll',\n",
       " 'm',\n",
       " 'ma',\n",
       " 'me',\n",
       " 'mightn',\n",
       " \"mightn't\",\n",
       " 'more',\n",
       " 'most',\n",
       " 'mustn',\n",
       " \"mustn't\",\n",
       " 'my',\n",
       " 'myself',\n",
       " 'needn',\n",
       " \"needn't\",\n",
       " 'no',\n",
       " 'nor',\n",
       " 'not',\n",
       " 'now',\n",
       " 'o',\n",
       " 'of',\n",
       " 'off',\n",
       " 'on',\n",
       " 'once',\n",
       " 'only',\n",
       " 'or',\n",
       " 'other',\n",
       " 'our',\n",
       " 'ours',\n",
       " 'ourselves',\n",
       " 'out',\n",
       " 'over',\n",
       " 'own',\n",
       " 're',\n",
       " 's',\n",
       " 'same',\n",
       " 'shan',\n",
       " \"shan't\",\n",
       " 'she',\n",
       " \"she's\",\n",
       " 'should',\n",
       " \"should've\",\n",
       " 'shouldn',\n",
       " \"shouldn't\",\n",
       " 'so',\n",
       " 'some',\n",
       " 'such',\n",
       " 't',\n",
       " 'than',\n",
       " 'that',\n",
       " \"that'll\",\n",
       " 'the',\n",
       " 'their',\n",
       " 'theirs',\n",
       " 'them',\n",
       " 'themselves',\n",
       " 'then',\n",
       " 'there',\n",
       " 'these',\n",
       " 'they',\n",
       " 'this',\n",
       " 'those',\n",
       " 'through',\n",
       " 'to',\n",
       " 'too',\n",
       " 'under',\n",
       " 'until',\n",
       " 'up',\n",
       " 've',\n",
       " 'very',\n",
       " 'was',\n",
       " 'wasn',\n",
       " \"wasn't\",\n",
       " 'we',\n",
       " 'were',\n",
       " 'weren',\n",
       " \"weren't\",\n",
       " 'what',\n",
       " 'when',\n",
       " 'where',\n",
       " 'which',\n",
       " 'while',\n",
       " 'who',\n",
       " 'whom',\n",
       " 'why',\n",
       " 'will',\n",
       " 'with',\n",
       " 'won',\n",
       " \"won't\",\n",
       " 'wouldn',\n",
       " \"wouldn't\",\n",
       " 'y',\n",
       " 'you',\n",
       " \"you'd\",\n",
       " \"you'll\",\n",
       " \"you're\",\n",
       " \"you've\",\n",
       " 'your',\n",
       " 'yours',\n",
       " 'yourself',\n",
       " 'yourselves'}"
      ]
     },
     "execution_count": 10,
     "metadata": {},
     "output_type": "execute_result"
    }
   ],
   "source": [
    "stop_words"
   ]
  },
  {
   "cell_type": "code",
   "execution_count": 11,
   "metadata": {},
   "outputs": [
    {
     "name": "stdout",
     "output_type": "stream",
     "text": [
      "1599\n"
     ]
    }
   ],
   "source": [
    "# pull stopwords from the list of words\n",
    "\n",
    "word_list = [x for x in words if x not in stop_words]\n",
    "\n",
    "print(len(word_list))\n"
   ]
  },
  {
   "cell_type": "code",
   "execution_count": 12,
   "metadata": {},
   "outputs": [
    {
     "data": {
      "text/plain": [
       "[('cream', 134),\n",
       " ('skin', 113),\n",
       " ('face', 74),\n",
       " ('lightening', 65),\n",
       " ('brightening', 43),\n",
       " ('dark', 29),\n",
       " ('day', 24),\n",
       " ('women', 22),\n",
       " ('gm', 21),\n",
       " ('glowing', 20)]"
      ]
     },
     "execution_count": 12,
     "metadata": {},
     "output_type": "execute_result"
    }
   ],
   "source": [
    "# 'men' makes the top 20 words\n",
    "# gm (for gram) needs to become a stopword\n",
    "\n",
    "Counter(word_list).most_common(10)"
   ]
  },
  {
   "cell_type": "code",
   "execution_count": 13,
   "metadata": {},
   "outputs": [
    {
     "data": {
      "image/png": "[encoded data removed]",
      "text/plain": [
       "<Figure size 1440x720 with 1 Axes>"
      ]
     },
     "metadata": {
      "needs_background": "light"
     },
     "output_type": "display_data"
    }
   ],
   "source": [
    "top_ten = Counter(word_list).most_common(10)\n",
    "headers = ['word', 'count']\n",
    "df_g = pd.DataFrame(top_ten, columns = headers)\n",
    "df_g.plot.bar(x = 'word', y = 'count', figsize = (20, 10));"
   ]
  },
  {
   "cell_type": "markdown",
   "metadata": {},
   "source": [
    "## use list of product names to make a single text\n",
    "\n",
    "> to see the context of key words"
   ]
  },
  {
   "cell_type": "code",
   "execution_count": 14,
   "metadata": {},
   "outputs": [
    {
     "data": {
      "text/plain": [
       "['KOJO Absolute Daily Care combo with Deep Cleansing Face Wash, Gentle Exfoliating Scrub, Light Enriching Day Cream, and Skin Rejuvenating Serum for both Men & Women, All Natural, Vegan, & Cruelty free',\n",
       " 'KOJO Absolute Daily Care combo with Deep Cleansing Face Wash, Gentle Exfoliating Scrub, Light Enriching Day Cream, and Skin Rejuvenating Serum for both Men & Women, All Natural, Vegan, & Cruelty free',\n",
       " 'Enchanted beauty Dermatologists Recommended Best Brightening Max Cream for Fairness and Glowing',\n",
       " 'Enchanted beauty Dermatologists Recommended Best Brightening Max Cream for Fairness and Glowing',\n",
       " 'Oriflame Sweden Optimals Clear white Lightening Day Cream-50 ml with one Optimals Clear white Lightening Night Cream-50 m',\n",
       " 'Oriflame Optimals Clear White Lightening Day Cream 50 ml',\n",
       " 'Botanic Rain Ayurvedic Face Cream, Anti Aging Cream For Women, Day Cream For Women Daily Use, Mens Face Cream, Youth Face Cream, Anti Wrinkles Cream For Women, Depigmentation Cream, Day Cream With SPF, Face Glow Cream For Men, Organic Face Cream',\n",
       " 'Botanic Rain Ayurvedic Face Cream, Anti Aging Cream For Women, Day Cream For Women Daily Use, Mens Face Cream, Youth Face Cream, Anti Wrinkles Cream For Women, Depigmentation Cream, Day Cream With SPF, Face Glow Cream For Men, Organic Face Cream',\n",
       " 'Le Bonheur.. Reversion Tan Removal and Skin Lightening Natural Exfoliating Cream (400 g)',\n",
       " 'Blue Nectar Ayurvedic Anti Aging Face Cream for Women with Natural Vitamin C & Vitamin E Moisturizer 50g',\n",
       " 'Blue Nectar Ayurvedic Sandalwood Radiance and Skin Brightening Cream | Moisturizing Day Cream for Women for Daily Use | Face Cream for Women with Sun Protection (13 Herbs 50 g)',\n",
       " 'Blue Nectar Ayurvedic Sandalwood Radiance and Skin Brightening Cream | Moisturizing Day Cream for Women for Daily Use | Face Cream for Women with Sun Protection (13 Herbs 50 g)',\n",
       " 'GO LITE NATURAL SKIN Lightening CREAM WITH SUNSCREEN 30gm',\n",
       " 'Blue Nectar Natural Vitamin C Face Cream for Glowing Skin, Dark Spot Removal Cream with Green Apple and Almond Oil (13 Herbs, 50g)',\n",
       " 'SHYAMOSA Skin Brightening Cream Intimate Lightening Cream Skin Rejuvenation Sabiwhite Fairness Cream For Women And Men All Skin Type-30g',\n",
       " 'Blue Nectar Ayurvedic Brightening Cream and Lightening Face Moisturizer | Face Cream for Men',\n",
       " 'Blue Nectar Natural Vitamin C Face Cream for Glowing Skin, Dark Spot Removal Cream for Men with Green Apple and Almond Oil (13 Herbs, 50g)',\n",
       " \"Dr Batra's Natural Skin Lightening Cream 100G and Skin Fairness Serum 50 G (Pack of 2 Men and Women)\",\n",
       " 'Biotique Bxl Cellular Coconut Whitening Cream, 50g',\n",
       " 'DERMATOUCH Bye Bye Pigmentation Removal Cream for Women/Men with Niacinamide, Lime Pearl & B-White - 30G',\n",
       " 'optimals clear white lightening day cream',\n",
       " 'Ethiglo A2Lite Skin Lightening And Brightening Cream',\n",
       " 'Organic Harvest Skin Lightning & Brightning Cream For Women | Ideal For All Skin Type | Reduces Dark Spot, Protect From Sun Damage, Lighten Skin Tone | Paraben & Sulphate Free - 50 gm',\n",
       " 'LAKMÃ‰ Absolute Perfect Radiance Skin Brightening Face Serum With Niacinamide, Witch Hazel, Vita-Resorcinol For Radiant & Glowing Skin, 30 ml,23414',\n",
       " 'O3+ Meladerm Brightening & Whitening Night Face Cream to Restore Moisture & Control Pigmentation Ideal for All Skin, 50g',\n",
       " 'O3+ Meladerm Brightening & Whitening Night Face Cream to Restore Moisture & Control Pigmentation Ideal for All Skin, 50g',\n",
       " 'Kojiglo Forte For Skin Lightening Cream STEROID FREE,SMBS FREE 20GM',\n",
       " 'Glutalight Skin Lightening Cream with 2% Glutathione, 5% Vitamin C, 1% Kojic Acid, 3% Papaya Extract |For Glowing and Smoother Skin -50g',\n",
       " 'Ayuga 10% Kumkumadi Skin Radiance Day Cream - SPF 30 with Saffron & Lotus Extracts for Sun Protection, Dull & Dry Skin, Pigmentation | Face Cream | 50g',\n",
       " 'Ayuga 10% Kumkumadi Skin Radiance Day Cream - SPF 30 with Saffron & Lotus Extracts for Sun Protection, Dull & Dry Skin, Pigmentation | Face Cream | 50g',\n",
       " 'Pumpkin Face Gel Pumpkin skin lightening & Brightening Gel Cream 300 gm',\n",
       " 'Iba Advanced Activs Ultra White Skin Lightening CrÃ¨me Spf 25, 50 g l Whitens l Brightens l Reduces Dark Spots l Dermatologically Tested',\n",
       " 'KOJIGLO GOLD Skin Lightening Cream (20GM)',\n",
       " 'Kojiglo Gold Skin Lightening Cream- 20 Gram',\n",
       " 'LA Organo Kojic Acid Face Cream Enriched with Vitamin E, Niacinamide, Hyaluronic Acid for Skin Brightening & Lightening, Fade Away Dark Spots & Scars (Pack of 1) 50 GM',\n",
       " 'Urbaano Herbal Kumkumadi Face Cream - Glutathione - Oats Cream - Skin Brightening, Lightening, Deep Hydrating Younger looking skin Face Cream',\n",
       " 'The Man Company Skin Brightening Cream with Multani Mitti, Coco Butter, Hyaluronic Acid | Best Face cream for Glowing Skin | 50 gm',\n",
       " 'Spawake Anti Aging Face cream, Age Solution Intensive Day Cream, with SPF 20 PA++, 50g',\n",
       " 'GO LITE NATURAL SKIN Lightening CREAM WITH SUNSCREEN 15gm',\n",
       " 'Kojiglo Gold Skin Lightening Cream 20G',\n",
       " 'Minimalist 2% Alpha Lipoic (ALA) Brightening Cream with Vitamin C for Glowing Skin | With New Advanced Brightening Ingredient ALA | For Men & Women | 50 g',\n",
       " 'Pilgrim Red Vine Face Cream with SPF 30 Sunscreen, Rosehip Oil & Vit C For Anti Ageing, Sun Protection PA+++, Daily Use, Dry, Oily, Combination Skin, Men & Women, 50g',\n",
       " 'Pilgrim Red Vine Face Cream with SPF 30 Sunscreen, Rosehip Oil & Vit C For Anti Ageing, Sun Protection PA+++, Daily Use, Dry, Oily, Combination Skin, Men & Women, 50g',\n",
       " 'Lotus Professional PHYTORx WHITENING & BRIGHTENING CREME SPF 25 | PA+++ | Radiant skin | Even skin tone | Pigmentation | Paraben Free | 50g',\n",
       " 'Biluma Depigmenting and Skin Lightening Cream 15g',\n",
       " 'my skin IBGLOW Skin Lightening Cream for Skin Lightening 20 g',\n",
       " 'Pureus Skin Whitening Face Cream for Glowing Skin, Brightening, Lightening & Anti Aging Effects | Natural Fairness & Nourished Skin, Control Blemishes & Pigmentation| Day & Night Moisturizing Cream For Women & Men | No Silicone, No Parabene, No Sulphate, No Mineral Oil (50 gm)',\n",
       " 'TUBELiTE: Skin Lightening Cream (15 g)',\n",
       " 'Ibglow Skin Lightening Cream 20 g (SLC)',\n",
       " 'INTIMIFY Face Whitening Cream For Oily & Dry Skin, Face Glowing Cream For Women & Men, Fairness Cream For Skin Whitening, Brightening & Lightening, Night Cream For Face, Anti-Ageing Cream, Remove Pigmentation, Dark Spots 20 gms (Pack of 1)',\n",
       " 'Brinton Obril First Cream, 20 g',\n",
       " 'Bella Vita Organic Kumkumadi Day Face Cream for Dry to Normal Skin for Naturally Brightens & Nourishes skin With Kumkumadi Face Oil For Glowing Skin for Women,Men, 50 Gm',\n",
       " 'Bella Vita Organic Kumkumadi Day Face Cream for Dry to Normal Skin for Naturally Brightens & Nourishes skin With Kumkumadi Face Oil For Glowing Skin for Women,Men, 50 Gm',\n",
       " 'Kozicare Skin Lightening Cream Enriched with 3% Kojic Acid, 1% Alpha Arbutin, 1% Glutathione, 2% Niacinamide, 2% Vitamin C, 0.5% Mulberry Extract, 0.5% Liquorice | Best for Melasma, Pigmentation, Acne Scar, Dark/Age Spots, Uneven Skin Shade - 15gm (Pack Of 4)',\n",
       " 'Lakme Absolute Perfect Radiance Brightening Night CrÃ¨me with Niacinamide & Micro crystals 50g',\n",
       " 'Kojic Cream/For Skin Whitening and Lightening/De-Pigmentation and Removal of Black Spots, 25g',\n",
       " 'Melaglow Rich Depigmentation and Glow Restoration 20gm',\n",
       " 'Fair Insta Skin Lightening Cream (Steroid-free)',\n",
       " 'FAIR INSTA SKIN LIGHTENING CREAM PACK OF 2',\n",
       " 'Auravedic Detan Cream Tan removal cream skin lightening formula De tan for men women With Turmeric Licorice Papaya 100gm paraben free',\n",
       " 'Fair Insta Skin Lightening And Brightening Cream | 20 Gm',\n",
       " 'Eeza Anti Blemishe Face Cream With Tomato And Vitamin C - Pigmentation Removal Cream , Dark spots and Age spots - lightening And Glowing For Women And Men 30gms',\n",
       " 'Aakaar Tubelite Skin Lightening Cream(15 gms)',\n",
       " 'Neutrogena Bright Boost Gel Cream, 1 week to brighter skin, powered by Neoglucosamine, 15g',\n",
       " 'Neutrogena Bright Boost Gel Cream, 1 week to brighter skin, powered by Neoglucosamine, 15g',\n",
       " 'DermoLite Skin Lightening Cream ( 20G ) Pack Of 2',\n",
       " \"Dr Batra's Natural Skin Lightening Cream Enriched With Mulberry Extract - 100 gm\",\n",
       " 'Oriental Botanics Rivayat Ubtan Face Cream, 50 g | Infused with Traditional Ubtan Ingredients for Naturally Glowing & Nourished Skin | Cruelty Free & Vegan | Paraben Free',\n",
       " 'NEOLAYR LITE LIGHTENING & BRIGHTENING FACE CREAM',\n",
       " 'BOSHKA JAPANESE RICE WHITENING CREAM | Japanese Inspired Whitening Effect + Clear skin | Promote Even Skin Tone, Bright & Youthful Complexion with Rice Protein & Pearls; for Women & Men;No Parabens',\n",
       " 'Honest choice Anti Blemish Face Cream With Tomato And Vitamin C - Pigmentation Removal Cream , Dark Spots and Age Spots - Lightening And Glowing For Women And Men 50 gm',\n",
       " 'Kozicare Skin Lightening Serum Enriched with 2% Kojic Acid, 1% Glutathione, 5% Mulberry Extract, 1% Arbutin, 0.20% Allantoin |Maximum Brightening for Face, Neck & Body | Reduces Dark Spots, Hyperpigmentation -30ml',\n",
       " 'UrbanGabru Insta Glow Fairness Cream with Anti pimple and SPF 50 - No Parabens or Sulphates 50g',\n",
       " 'Sanfe 2 in 1 Back & Bum Anti-Cellulite Serum | Lightens skin & Reduces cellulite | 2 in 1 serum | 100gm | Brightens your skin | Instantly soft & supple skin',\n",
       " 'Kozicare Skin Lightening Serum Enriched with 2% Kojic Acid, 1% Glutathione, 5% Mulberry Extract, 1% Arbutin, 0.20% Allantoin |Maximum Brightening for Face, Neck & Body | Reduces Dark Spots, Hyperpigmentation -30ml',\n",
       " 'Hykozi Non Hydroquinone Skin Lightening Cream 20 GM Tube',\n",
       " 'UrbanGabru Insta Glow Fairness Cream with Anti pimple and SPF 50 - No Parabens or Sulphates 50g',\n",
       " 'Melaglo Skin Brightening And Lightening Cream | 15 Gm',\n",
       " 'Abbott | Mela-glow | Skin Lightening Cream |(15gm)',\n",
       " 'Abbott | Mela-glow | Skin Lightening Cream |(15gm)',\n",
       " 'Sanfe.Beauty Promise Neck Lightening & Glow Cream - with Vitamin C 30gms | Anti Pigmentation, For Even-toned smooth Neck, Brightens & Lightens Neck, Gently Exfoliates, Heals and Nourishes the Skin',\n",
       " 'LAKMÃ‰ Perfect Radiance Fairness Day Creme 50 g & LakmÃ© Absolute Perfect Radiance Skin Lightening Day Creme 15 g',\n",
       " 'IHA Zweta Skin Lightening Cream - Herbal Face Cream, Vegan Skin Brightening Cream with Mulberry, Gotukola and Licorice - Daily Face Cream for Women, Face Glowing Cream For Normal to Dry Skin - 40G',\n",
       " 'Sanfe Intimate Lightening Serum - 50g | For Dark Underarms, Inner Thighs, Knees And Bikini Area | With Kojic Acid, Vitamin C, Natural Lemon and Mulberry Extracts | Serum| MSDS & COA Certified',\n",
       " 'Bella Vita Organic C Glow Oil Control Hydration Anti Pigmentation Blemish Cream Face Gel For Dark Spot Removal, Glowing & Lightening with Vitamin C, Aloe Vera, Papaya & Turmeric , 50 Gm',\n",
       " 'Classic White Cream Face Lightening Cream/ Skin Whitening / Skin Fairness Cream 15G',\n",
       " 'Bella Vita Organic C Glow Oil Control Hydration Anti Pigmentation Blemish Cream Face Gel For Dark Spot Removal, Glowing & Lightening with Vitamin C, Aloe Vera, Papaya & Turmeric , 50 Gm',\n",
       " 'INTIMIFY Face Whitening Cream for Women, Skin Brightening, Face Lightening Cream and Pimples Remove Creams, Face Gora Karne ki Cream With Glutathione Vitamin C & Kojic Acid 20g',\n",
       " 'Bella Vita Organic C Glow Oil Control Hydration Anti Pigmentation Blemish Cream Face Gel For Dark Spot Removal, Glowing & Lightening with Vitamin C, Aloe Vera, Papaya & Turmeric , 50 Gm',\n",
       " 'Khadi Rishikesh Herbal Fairness fruit cream for remove black spot wrinkles - fairness cream for lightening , whitening , brightening , glowing skin - remove acne - dark circle - aging, reduces blemishes - protect skin for sun - day cream , young boy-girls, men & women ( 50 gm) WITH HAIR RUBBER BAND FREE',\n",
       " 'Sanfe Brightening Back and Bum Cream 50g - for uneven, dark and patchy bum and back - Natural Peony, Licorice and Lemon extracts with Vitamin E 50 gm (MSDS & COA Certified)',\n",
       " 'Sanfe Brightening Back and Bum Cream 50g - for uneven, dark and patchy bum and back - Natural Peony, Licorice and Lemon extracts with Vitamin E 50 gm (MSDS & COA Certified)',\n",
       " 'Khadi Rishikesh Ayurvedic Fairness Cream, Brightening Day Cream, Daily Face Moisturizer, Lighten Dark Spots Wrinkles Acne Scare Aging Reduces Blemishes ,Protected Sun, All skin types-Women & Men-50GM Khadi Rishikesh Ayurvedic Fairness Cream, Brightening Day Cream, Daily Face Moisturizer, LighAcne Scare Aging Reduces Blemishes ,Protected Sun, All skin types-Women & Men-50GM WITH HAIR RUBBER BAND FREE',\n",
       " 'KHADI RISHIKESH Ayurvedic Night Face Cream For Reduce Anti Aging Wrinkles ,Pigmentation | Fight Puffiness | lightening & Brightening skin | | Fairness Night Moisturiser |Paraben Free l Young Boys & Girls, Men & Women 50GM,WITH HAIR RUBBER BAND FREE',\n",
       " '7 Days Whitening & Lightening Cream for Underarms & Intimate Areas | For Sensitive Skin of Bikini Area & Underarms | For Men & Women | For all skin types | 100 gm',\n",
       " \"Indus Valley Cow's Milk Yogurt & Honey Skin Lightening & Brightening Depigmentation Gel For Skin Care to Moisturise, Lightens blemishes & dark spots, Cruelty-free, Certified USDA Organic and ECOCERT- (50ml)\",\n",
       " 'Barbers Crew Whitening & Lightening Cream for Removal of Hyperpigmentation, For Dark body parts like neck, ankles, knuckles, Armpits, Thighs, Elbows,| For Men & Women | For all skin types | 100 gm',\n",
       " 'Florozone Skin Lightening Cream, 20 G',\n",
       " 'Lakme Absolute Perfect Radiance Brightening Day CrÃ¨me (Cream) with Niacinamide & Micro crystals 50g',\n",
       " 'VI - JOHN Gold Saffron Fairness Cream For Uneven Skin Tone & Rejuvenate Skin | Chemical Free Face Cream For Radiant Glow And Dark Spots (All Type Skin) 50Gm (Pack Of 4)',\n",
       " \"L'Oreal Paris Revitalift Crystal Gel Cream | Oil-Free Face Moisturizer With Salicylic Acid | 15ml.\",\n",
       " \"L'Oreal Paris Revitalift Crystal Gel Cream | Oil-Free Face Moisturizer With Salicylic Acid | 15ml.\",\n",
       " 'Vedlekha Whitening & Lightening Cream for Removal of Hyperpigmentation, For Dark body parts like neck, ankles, knuckles, Armpits, Thighs, Elbows,| For Men & Women | For all skin types | 100 gm',\n",
       " 'AroMine Dark Spot Remover Cream | Brightening & Lightening | Pimple Marks | Acne Scars | Uneven Skin Tone | Pigmentation & Blemish Removal, 60ml',\n",
       " 'SQINA Brightening Face Cream | Fairness & Lightening Cream | Premium Vegan Face Cream With Calendula Extract | Works For All Skin Types | 60 gm',\n",
       " 'Roop Mantra Combo Face Care Kit For Skin Lightening, Brightening & Tightening (Fairness Face Cream 60gm + Mix Fruit Face Wash 115ml), 2 count',\n",
       " 'Roop Mantra Combo Face Care Kit For Skin Lightening, Brightening & Tightening (Fairness Face Cream 60gm + Mix Fruit Face Wash 115ml), 2 count',\n",
       " 'Lotus Herbals Whiteglow Skin Whitening & Brightening Gel Cream SPF 25 Pa +++, 40g',\n",
       " 'Good Vibes Vitamin C Glow Gel Creme, 50 g Skin Brightening Hydrating Moisturizing Face Cream for All Skin Types, Rich in Antioxidants & Helps Reduce Dark Spots, No Parabens & Sulphates',\n",
       " 'Dermolite Skin Lightening And Whitening Cream 20Gm',\n",
       " 'Good Vibes Argan Fine Line Minimizing Face Cream - 50 g - Aids in Lightening Dark Spots, Anti-Wrinkle for Skin Brightening - Suited For All Skin Types - Paraben and Cruelty Free',\n",
       " 'UrbanMooch Dark Spot Corrector Cream | Brightening & Lightening | Pimple Marks | Acne Scars | Uneven Skin Tone | Pigmentation & Blemish, 50gm',\n",
       " \"Rahul Phate's Research Product Ketaki Day Wear Ultra Potent Beautifying Antioxidant face cream | For brightening, glowing, moisturizing, smooth, nourishing & hydrated skin.| For All Skin Types | 40g\",\n",
       " 'Dr.Rashel WHITE SKIN CREAM For Skin Whitening, Skin Lightening, Dark Spot, Reduce Pigmentation (380 ml)',\n",
       " 'Lacto Calamine Face Lotion for Oil Balance - Combination to Normal Skin - 120 ml',\n",
       " 'Flocare Skin Lightening Cream with Brightening Complex For Uneven Skin tone - Chemical Free Face Cream For Radiant Glow, Reduce Dark Spots & Dark Circles, Minimizes pores For Men & Women (All Type Skin) (60gm)',\n",
       " 'Sheen Lightening & Brightening Face Cream (With Rosehip Oil, Ginseng & Licorice Extract) - 50 Gm',\n",
       " 'Kozicare Skin Lightening Cream Enriched with 3% Kojic Acid, 1% Alpha Arbutin, 1% Glutathione, 2% Niacinamide, 2% Vitamin C, 0.5% Mulberry Extract, 0.5% Liquorice | Best for Melasma, Pigmentation, Acne Scar, Dark/Age Spots, Uneven Skin Shade - 15gm',\n",
       " 'Biotique Coconut Brightening Instant Glow Cream, 50gm',\n",
       " 'Himalaya Herbals Natural Glow Kesar Face Cream, 25gm']"
      ]
     },
     "execution_count": 14,
     "metadata": {},
     "output_type": "execute_result"
    }
   ],
   "source": [
    "# start with the list of all product names\n",
    "\n",
    "all_items"
   ]
  },
  {
   "cell_type": "code",
   "execution_count": 15,
   "metadata": {},
   "outputs": [],
   "source": [
    "# assemble a single text from all the product names\n",
    "\n",
    "text = ''\n",
    "\n",
    "for x in range(120):\n",
    "    text = text + \". \" + all_items[x]\n",
    "\n",
    "# trim the first two characters\n",
    "text = text[2:]\n",
    "\n",
    "# lowercase the lot\n",
    "text = text.lower()"
   ]
  },
  {
   "cell_type": "code",
   "execution_count": 16,
   "metadata": {},
   "outputs": [
    {
     "data": {
      "text/plain": [
       "\"kojo absolute daily care combo with deep cleansing face wash, gentle exfoliating scrub, light enriching day cream, and skin rejuvenating serum for both men & women, all natural, vegan, & cruelty free. kojo absolute daily care combo with deep cleansing face wash, gentle exfoliating scrub, light enriching day cream, and skin rejuvenating serum for both men & women, all natural, vegan, & cruelty free. enchanted beauty dermatologists recommended best brightening max cream for fairness and glowing. enchanted beauty dermatologists recommended best brightening max cream for fairness and glowing. oriflame sweden optimals clear white lightening day cream-50 ml with one optimals clear white lightening night cream-50 m. oriflame optimals clear white lightening day cream 50 ml. botanic rain ayurvedic face cream, anti aging cream for women, day cream for women daily use, mens face cream, youth face cream, anti wrinkles cream for women, depigmentation cream, day cream with spf, face glow cream for men, organic face cream. botanic rain ayurvedic face cream, anti aging cream for women, day cream for women daily use, mens face cream, youth face cream, anti wrinkles cream for women, depigmentation cream, day cream with spf, face glow cream for men, organic face cream. le bonheur.. reversion tan removal and skin lightening natural exfoliating cream (400 g). blue nectar ayurvedic anti aging face cream for women with natural vitamin c & vitamin e moisturizer 50g. blue nectar ayurvedic sandalwood radiance and skin brightening cream | moisturizing day cream for women for daily use | face cream for women with sun protection (13 herbs 50 g). blue nectar ayurvedic sandalwood radiance and skin brightening cream | moisturizing day cream for women for daily use | face cream for women with sun protection (13 herbs 50 g). go lite natural skin lightening cream with sunscreen 30gm. blue nectar natural vitamin c face cream for glowing skin, dark spot removal cream with green apple and almond oil (13 herbs, 50g). shyamosa skin brightening cream intimate lightening cream skin rejuvenation sabiwhite fairness cream for women and men all skin type-30g. blue nectar ayurvedic brightening cream and lightening face moisturizer | face cream for men. blue nectar natural vitamin c face cream for glowing skin, dark spot removal cream for men with green apple and almond oil (13 herbs, 50g). dr batra's natural skin lightening cream 100g and skin fairness serum 50 g (pack of 2 men and women). biotique bxl cellular coconut whitening cream, 50g. dermatouch bye bye pigmentation removal cream for women/men with niacinamide, lime pearl & b-white - 30g. optimals clear white lightening day cream. ethiglo a2lite skin lightening and brightening cream. organic harvest skin lightning & brightning cream for women | ideal for all skin type | reduces dark spot, protect from sun damage, lighten skin tone | paraben & sulphate free - 50 gm. lakmã‰ absolute perfect radiance skin brightening face serum with niacinamide, witch hazel, vita-resorcinol for radiant & glowing skin, 30 ml,23414. o3+ meladerm brightening & whitening night face cream to restore moisture & control pigmentation ideal for all skin, 50g. o3+ meladerm brightening & whitening night face cream to restore moisture & control pigmentation ideal for all skin, 50g. kojiglo forte for skin lightening cream steroid free,smbs free 20gm. glutalight skin lightening cream with 2% glutathione, 5% vitamin c, 1% kojic acid, 3% papaya extract |for glowing and smoother skin -50g. ayuga 10% kumkumadi skin radiance day cream - spf 30 with saffron & lotus extracts for sun protection, dull & dry skin, pigmentation | face cream | 50g. ayuga 10% kumkumadi skin radiance day cream - spf 30 with saffron & lotus extracts for sun protection, dull & dry skin, pigmentation | face cream | 50g. pumpkin face gel pumpkin skin lightening & brightening gel cream 300 gm. iba advanced activs ultra white skin lightening crã¨me spf 25, 50 g l whitens l brightens l reduces dark spots l dermatologically tested. kojiglo gold skin lightening cream (20gm). kojiglo gold skin lightening cream- 20 gram. la organo kojic acid face cream enriched with vitamin e, niacinamide, hyaluronic acid for skin brightening & lightening, fade away dark spots & scars (pack of 1) 50 gm. urbaano herbal kumkumadi face cream - glutathione - oats cream - skin brightening, lightening, deep hydrating younger looking skin face cream. the man company skin brightening cream with multani mitti, coco butter, hyaluronic acid | best face cream for glowing skin | 50 gm. spawake anti aging face cream, age solution intensive day cream, with spf 20 pa++, 50g. go lite natural skin lightening cream with sunscreen 15gm. kojiglo gold skin lightening cream 20g. minimalist 2% alpha lipoic (ala) brightening cream with vitamin c for glowing skin | with new advanced brightening ingredient ala | for men & women | 50 g. pilgrim red vine face cream with spf 30 sunscreen, rosehip oil & vit c for anti ageing, sun protection pa+++, daily use, dry, oily, combination skin, men & women, 50g. pilgrim red vine face cream with spf 30 sunscreen, rosehip oil & vit c for anti ageing, sun protection pa+++, daily use, dry, oily, combination skin, men & women, 50g. lotus professional phytorx whitening & brightening creme spf 25 | pa+++ | radiant skin | even skin tone | pigmentation | paraben free | 50g. biluma depigmenting and skin lightening cream 15g. my skin ibglow skin lightening cream for skin lightening 20 g. pureus skin whitening face cream for glowing skin, brightening, lightening & anti aging effects | natural fairness & nourished skin, control blemishes & pigmentation| day & night moisturizing cream for women & men | no silicone, no parabene, no sulphate, no mineral oil (50 gm). tubelite: skin lightening cream (15 g). ibglow skin lightening cream 20 g (slc). intimify face whitening cream for oily & dry skin, face glowing cream for women & men, fairness cream for skin whitening, brightening & lightening, night cream for face, anti-ageing cream, remove pigmentation, dark spots 20 gms (pack of 1). brinton obril first cream, 20 g. bella vita organic kumkumadi day face cream for dry to normal skin for naturally brightens & nourishes skin with kumkumadi face oil for glowing skin for women,men, 50 gm. bella vita organic kumkumadi day face cream for dry to normal skin for naturally brightens & nourishes skin with kumkumadi face oil for glowing skin for women,men, 50 gm. kozicare skin lightening cream enriched with 3% kojic acid, 1% alpha arbutin, 1% glutathione, 2% niacinamide, 2% vitamin c, 0.5% mulberry extract, 0.5% liquorice | best for melasma, pigmentation, acne scar, dark/age spots, uneven skin shade - 15gm (pack of 4). lakme absolute perfect radiance brightening night crã¨me with niacinamide & micro crystals 50g. kojic cream/for skin whitening and lightening/de-pigmentation and removal of black spots, 25g. melaglow rich depigmentation and glow restoration 20gm. fair insta skin lightening cream (steroid-free). fair insta skin lightening cream pack of 2. auravedic detan cream tan removal cream skin lightening formula de tan for men women with turmeric licorice papaya 100gm paraben free. fair insta skin lightening and brightening cream | 20 gm. eeza anti blemishe face cream with tomato and vitamin c - pigmentation removal cream , dark spots and age spots - lightening and glowing for women and men 30gms. aakaar tubelite skin lightening cream(15 gms). neutrogena bright boost gel cream, 1 week to brighter skin, powered by neoglucosamine, 15g. neutrogena bright boost gel cream, 1 week to brighter skin, powered by neoglucosamine, 15g. dermolite skin lightening cream ( 20g ) pack of 2. dr batra's natural skin lightening cream enriched with mulberry extract - 100 gm. oriental botanics rivayat ubtan face cream, 50 g | infused with traditional ubtan ingredients for naturally glowing & nourished skin | cruelty free & vegan | paraben free. neolayr lite lightening & brightening face cream. boshka japanese rice whitening cream | japanese inspired whitening effect + clear skin | promote even skin tone, bright & youthful complexion with rice protein & pearls; for women & men;no parabens. honest choice anti blemish face cream with tomato and vitamin c - pigmentation removal cream , dark spots and age spots - lightening and glowing for women and men 50 gm. kozicare skin lightening serum enriched with 2% kojic acid, 1% glutathione, 5% mulberry extract, 1% arbutin, 0.20% allantoin |maximum brightening for face, neck & body | reduces dark spots, hyperpigmentation -30ml. urbangabru insta glow fairness cream with anti pimple and spf 50 - no parabens or sulphates 50g. sanfe 2 in 1 back & bum anti-cellulite serum | lightens skin & reduces cellulite | 2 in 1 serum | 100gm | brightens your skin | instantly soft & supple skin. kozicare skin lightening serum enriched with 2% kojic acid, 1% glutathione, 5% mulberry extract, 1% arbutin, 0.20% allantoin |maximum brightening for face, neck & body | reduces dark spots, hyperpigmentation -30ml. hykozi non hydroquinone skin lightening cream 20 gm tube. urbangabru insta glow fairness cream with anti pimple and spf 50 - no parabens or sulphates 50g. melaglo skin brightening and lightening cream | 15 gm. abbott | mela-glow | skin lightening cream |(15gm). abbott | mela-glow | skin lightening cream |(15gm). sanfe.beauty promise neck lightening & glow cream - with vitamin c 30gms | anti pigmentation, for even-toned smooth neck, brightens & lightens neck, gently exfoliates, heals and nourishes the skin. lakmã‰ perfect radiance fairness day creme 50 g & lakmã© absolute perfect radiance skin lightening day creme 15 g. iha zweta skin lightening cream - herbal face cream, vegan skin brightening cream with mulberry, gotukola and licorice - daily face cream for women, face glowing cream for normal to dry skin - 40g. sanfe intimate lightening serum - 50g | for dark underarms, inner thighs, knees and bikini area | with kojic acid, vitamin c, natural lemon and mulberry extracts | serum| msds & coa certified. bella vita organic c glow oil control hydration anti pigmentation blemish cream face gel for dark spot removal, glowing & lightening with vitamin c, aloe vera, papaya & turmeric , 50 gm. classic white cream face lightening cream/ skin whitening / skin fairness cream 15g. bella vita organic c glow oil control hydration anti pigmentation blemish cream face gel for dark spot removal, glowing & lightening with vitamin c, aloe vera, papaya & turmeric , 50 gm. intimify face whitening cream for women, skin brightening, face lightening cream and pimples remove creams, face gora karne ki cream with glutathione vitamin c & kojic acid 20g. bella vita organic c glow oil control hydration anti pigmentation blemish cream face gel for dark spot removal, glowing & lightening with vitamin c, aloe vera, papaya & turmeric , 50 gm. khadi rishikesh herbal fairness fruit cream for remove black spot wrinkles - fairness cream for lightening , whitening , brightening , glowing skin - remove acne - dark circle - aging, reduces blemishes - protect skin for sun - day cream , young boy-girls, men & women ( 50 gm) with hair rubber band free. sanfe brightening back and bum cream 50g - for uneven, dark and patchy bum and back - natural peony, licorice and lemon extracts with vitamin e 50 gm (msds & coa certified). sanfe brightening back and bum cream 50g - for uneven, dark and patchy bum and back - natural peony, licorice and lemon extracts with vitamin e 50 gm (msds & coa certified). khadi rishikesh ayurvedic fairness cream, brightening day cream, daily face moisturizer, lighten dark spots wrinkles acne scare aging reduces blemishes ,protected sun, all skin types-women & men-50gm khadi rishikesh ayurvedic fairness cream, brightening day cream, daily face moisturizer, lighacne scare aging reduces blemishes ,protected sun, all skin types-women & men-50gm with hair rubber band free. khadi rishikesh ayurvedic night face cream for reduce anti aging wrinkles ,pigmentation | fight puffiness | lightening & brightening skin | | fairness night moisturiser |paraben free l young boys & girls, men & women 50gm,with hair rubber band free. 7 days whitening & lightening cream for underarms & intimate areas | for sensitive skin of bikini area & underarms | for men & women | for all skin types | 100 gm. indus valley cow's milk yogurt & honey skin lightening & brightening depigmentation gel for skin care to moisturise, lightens blemishes & dark spots, cruelty-free, certified usda organic and ecocert- (50ml). barbers crew whitening & lightening cream for removal of hyperpigmentation, for dark body parts like neck, ankles, knuckles, armpits, thighs, elbows,| for men & women | for all skin types | 100 gm. florozone skin lightening cream, 20 g. lakme absolute perfect radiance brightening day crã¨me (cream) with niacinamide & micro crystals 50g. vi - john gold saffron fairness cream for uneven skin tone & rejuvenate skin | chemical free face cream for radiant glow and dark spots (all type skin) 50gm (pack of 4). l'oreal paris revitalift crystal gel cream | oil-free face moisturizer with salicylic acid | 15ml.. l'oreal paris revitalift crystal gel cream | oil-free face moisturizer with salicylic acid | 15ml.. vedlekha whitening & lightening cream for removal of hyperpigmentation, for dark body parts like neck, ankles, knuckles, armpits, thighs, elbows,| for men & women | for all skin types | 100 gm. aromine dark spot remover cream | brightening & lightening | pimple marks | acne scars | uneven skin tone | pigmentation & blemish removal, 60ml. sqina brightening face cream | fairness & lightening cream | premium vegan face cream with calendula extract | works for all skin types | 60 gm. roop mantra combo face care kit for skin lightening, brightening & tightening (fairness face cream 60gm + mix fruit face wash 115ml), 2 count. roop mantra combo face care kit for skin lightening, brightening & tightening (fairness face cream 60gm + mix fruit face wash 115ml), 2 count. lotus herbals whiteglow skin whitening & brightening gel cream spf 25 pa +++, 40g. good vibes vitamin c glow gel creme, 50 g skin brightening hydrating moisturizing face cream for all skin types, rich in antioxidants & helps reduce dark spots, no parabens & sulphates. dermolite skin lightening and whitening cream 20gm. good vibes argan fine line minimizing face cream - 50 g - aids in lightening dark spots, anti-wrinkle for skin brightening - suited for all skin types - paraben and cruelty free. urbanmooch dark spot corrector cream | brightening & lightening | pimple marks | acne scars | uneven skin tone | pigmentation & blemish, 50gm. rahul phate's research product ketaki day wear ultra potent beautifying antioxidant face cream | for brightening, glowing, moisturizing, smooth, nourishing & hydrated skin.| for all skin types | 40g. dr.rashel white skin cream for skin whitening, skin lightening, dark spot, reduce pigmentation (380 ml). lacto calamine face lotion for oil balance - combination to normal skin - 120 ml. flocare skin lightening cream with brightening complex for uneven skin tone - chemical free face cream for radiant glow, reduce dark spots & dark circles, minimizes pores for men & women (all type skin) (60gm). sheen lightening & brightening face cream (with rosehip oil, ginseng & licorice extract) - 50 gm. kozicare skin lightening cream enriched with 3% kojic acid, 1% alpha arbutin, 1% glutathione, 2% niacinamide, 2% vitamin c, 0.5% mulberry extract, 0.5% liquorice | best for melasma, pigmentation, acne scar, dark/age spots, uneven skin shade - 15gm. biotique coconut brightening instant glow cream, 50gm. himalaya herbals natural glow kesar face cream, 25gm\""
      ]
     },
     "execution_count": 16,
     "metadata": {},
     "output_type": "execute_result"
    }
   ],
   "source": [
    "text"
   ]
  },
  {
   "cell_type": "code",
   "execution_count": 17,
   "metadata": {},
   "outputs": [],
   "source": [
    "# use regex to see what follows terms like skin, assign to a variable\n",
    "\n",
    "follow_skin = re.findall(r\"\\b[Ss]kin (\\w+)\", text)"
   ]
  },
  {
   "cell_type": "code",
   "execution_count": 18,
   "metadata": {},
   "outputs": [
    {
     "data": {
      "text/plain": [
       "[('lightening', 40),\n",
       " ('brightening', 12),\n",
       " ('types', 9),\n",
       " ('tone', 7),\n",
       " ('whitening', 6),\n",
       " ('for', 5),\n",
       " ('rejuvenating', 2),\n",
       " ('type', 2),\n",
       " ('fairness', 2),\n",
       " ('radiance', 2),\n",
       " ('with', 2),\n",
       " ('shade', 2),\n",
       " ('rejuvenation', 1),\n",
       " ('lightning', 1),\n",
       " ('face', 1),\n",
       " ('ibglow', 1),\n",
       " ('of', 1),\n",
       " ('care', 1),\n",
       " ('cream', 1)]"
      ]
     },
     "execution_count": 18,
     "metadata": {},
     "output_type": "execute_result"
    }
   ],
   "source": [
    "# most common terms that follow 'skin'\n",
    "\n",
    "Counter(follow_skin).most_common()"
   ]
  },
  {
   "cell_type": "code",
   "execution_count": 19,
   "metadata": {},
   "outputs": [
    {
     "data": {
      "image/png": "[encoded data removed]",
      "text/plain": [
       "<Figure size 1440x720 with 1 Axes>"
      ]
     },
     "metadata": {
      "needs_background": "light"
     },
     "output_type": "display_data"
    }
   ],
   "source": [
    "# chart\n",
    "\n",
    "skin_follow_top = Counter(follow_skin).most_common(10)\n",
    "headers = ['word', 'count']\n",
    "df_g = pd.DataFrame(skin_follow_top, columns = headers)\n",
    "df_g.plot.bar(x = 'word', y = 'count', figsize = (20, 10));"
   ]
  },
  {
   "cell_type": "code",
   "execution_count": 23,
   "metadata": {},
   "outputs": [],
   "source": [
    "# use regex to see what follows terms like dark, assign to a variable\n",
    "\n",
    "follow_dark = re.findall(r\"\\b[Dd]ark (\\w+)\", text)"
   ]
  },
  {
   "cell_type": "code",
   "execution_count": 24,
   "metadata": {},
   "outputs": [
    {
     "data": {
      "text/plain": [
       "[('spots', 18), ('Spots', 5), ('spot', 2), ('circles', 1)]"
      ]
     },
     "execution_count": 24,
     "metadata": {},
     "output_type": "execute_result"
    }
   ],
   "source": [
    "# most common terms that follow 'dark'\n",
    "\n",
    "Counter(follow_dark).most_common()"
   ]
  },
  {
   "cell_type": "markdown",
   "metadata": {},
   "source": [
    "## same, for the description col"
   ]
  },
  {
   "cell_type": "code",
   "execution_count": 20,
   "metadata": {},
   "outputs": [
    {
     "ename": "TypeError",
     "evalue": "can only concatenate str (not \"float\") to str",
     "output_type": "error",
     "traceback": [
      "\u001b[1;31m---------------------------------------------------------------------------\u001b[0m",
      "\u001b[1;31mTypeError\u001b[0m                                 Traceback (most recent call last)",
      "\u001b[1;32m<ipython-input-20-8466c65d0de0>\u001b[0m in \u001b[0;36m<module>\u001b[1;34m\u001b[0m\n\u001b[0;32m      4\u001b[0m \u001b[0mtext\u001b[0m \u001b[1;33m=\u001b[0m \u001b[1;34m''\u001b[0m\u001b[1;33m\u001b[0m\u001b[1;33m\u001b[0m\u001b[0m\n\u001b[0;32m      5\u001b[0m \u001b[1;32mfor\u001b[0m \u001b[0mx\u001b[0m \u001b[1;32min\u001b[0m \u001b[0mrange\u001b[0m\u001b[1;33m(\u001b[0m\u001b[1;36m120\u001b[0m\u001b[1;33m)\u001b[0m\u001b[1;33m:\u001b[0m\u001b[1;33m\u001b[0m\u001b[1;33m\u001b[0m\u001b[0m\n\u001b[1;32m----> 6\u001b[1;33m     \u001b[0mtext\u001b[0m \u001b[1;33m=\u001b[0m \u001b[0mtext\u001b[0m \u001b[1;33m+\u001b[0m \u001b[1;34m\". \"\u001b[0m \u001b[1;33m+\u001b[0m \u001b[0mdesc\u001b[0m\u001b[1;33m[\u001b[0m\u001b[0mx\u001b[0m\u001b[1;33m]\u001b[0m\u001b[1;33m\u001b[0m\u001b[1;33m\u001b[0m\u001b[0m\n\u001b[0m\u001b[0;32m      7\u001b[0m \u001b[0mtext\u001b[0m \u001b[1;33m=\u001b[0m \u001b[0mtext\u001b[0m\u001b[1;33m[\u001b[0m\u001b[1;36m2\u001b[0m\u001b[1;33m:\u001b[0m\u001b[1;33m]\u001b[0m\u001b[1;33m\u001b[0m\u001b[1;33m\u001b[0m\u001b[0m\n\u001b[0;32m      8\u001b[0m \u001b[0mtext\u001b[0m \u001b[1;33m=\u001b[0m \u001b[0mtext\u001b[0m\u001b[1;33m.\u001b[0m\u001b[0mlower\u001b[0m\u001b[1;33m(\u001b[0m\u001b[1;33m)\u001b[0m\u001b[1;33m\u001b[0m\u001b[1;33m\u001b[0m\u001b[0m\n",
      "\u001b[1;31mTypeError\u001b[0m: can only concatenate str (not \"float\") to str"
     ]
    }
   ],
   "source": [
    "desc = df.description.tolist()\n",
    "\n",
    "# assemble a single text from all the product names\n",
    "text = ''\n",
    "for x in range(120):\n",
    "    text = text + \". \" + desc[x]\n",
    "text = text[2:]\n",
    "text = text.lower()\n"
   ]
  },
  {
   "cell_type": "code",
   "execution_count": null,
   "metadata": {},
   "outputs": [],
   "source": [
    "text"
   ]
  },
  {
   "cell_type": "code",
   "execution_count": null,
   "metadata": {},
   "outputs": [],
   "source": []
  },
  {
   "cell_type": "code",
   "execution_count": null,
   "metadata": {},
   "outputs": [],
   "source": []
  },
  {
   "cell_type": "code",
   "execution_count": null,
   "metadata": {},
   "outputs": [],
   "source": []
  },
  {
   "cell_type": "code",
   "execution_count": null,
   "metadata": {},
   "outputs": [],
   "source": []
  }
 ],
 "metadata": {
  "kernelspec": {
   "display_name": "Python 3",
   "language": "python",
   "name": "python3"
  },
  "language_info": {
   "codemirror_mode": {
    "name": "ipython",
    "version": 3
   },
   "file_extension": ".py",
   "mimetype": "text/x-python",
   "name": "python",
   "nbconvert_exporter": "python",
   "pygments_lexer": "ipython3",
   "version": "3.8.8"
  }
 },
 "nbformat": 4,
 "nbformat_minor": 4
}
